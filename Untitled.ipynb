{
 "cells": [
  {
   "cell_type": "code",
   "execution_count": 18,
   "id": "f82e1bd4-fc4a-434c-a2c9-adf3e6793cde",
   "metadata": {},
   "outputs": [
    {
     "name": "stdout",
     "output_type": "stream",
     "text": [
      "Mon Dec 02 2024\n",
      "14:52:18 GMT+0300 (East Africa Time)\n"
     ]
    }
   ],
   "source": [
    "let today = new Date()\n",
    "console.log(today.toDateString())\n",
    "console.log(today.toTimeString())\n",
    "\n",
    "\n"
   ]
  },
  {
   "cell_type": "code",
   "execution_count": 19,
   "id": "c09422b6-1a5a-441b-8396-56ce982f2485",
   "metadata": {},
   "outputs": [
    {
     "name": "stdout",
     "output_type": "stream",
     "text": [
      "Mon Dec 02 2024\n",
      "00:52:18 GMT+0300 (East Africa Time)\n"
     ]
    }
   ],
   "source": [
    "today.setHours(0)\n",
    "console.log(today.toDateString())\n",
    "console.log(today.toTimeString())"
   ]
  },
  {
   "cell_type": "code",
   "execution_count": null,
   "id": "ab46f0f2-0860-469c-b188-02cb07ef7517",
   "metadata": {},
   "outputs": [],
   "source": []
  }
 ],
 "metadata": {
  "kernelspec": {
   "display_name": "Deno",
   "language": "typescript",
   "name": "deno"
  },
  "language_info": {
   "codemirror_mode": "typescript",
   "file_extension": ".ts",
   "mimetype": "text/x.typescript",
   "name": "typescript",
   "nbconvert_exporter": "script",
   "pygments_lexer": "typescript",
   "version": "5.6.2"
  }
 },
 "nbformat": 4,
 "nbformat_minor": 5
}
